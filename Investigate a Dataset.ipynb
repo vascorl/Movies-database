{
 "cells": [
  {
   "cell_type": "markdown",
   "id": "431909ea",
   "metadata": {},
   "source": [
    "# Project: The IMDB Database\n",
    "\n",
    "## Table of Contents\n",
    "<ul>\n",
    "<li><a href=\"#intro\">Introduction</a></li>\n",
    "<li><a href=\"#wrangling\">Data Wrangling</a></li>\n",
    "<li><a href=\"#eda\">Exploratory Data Analysis</a></li>\n",
    "<li><a href=\"#conclusions\">Conclusions</a></li>\n",
    "</ul>"
   ]
  },
  {
   "cell_type": "markdown",
   "id": "f9b793d8",
   "metadata": {},
   "source": [
    "<a id='intro'></a>\n",
    "## Introduction\n",
    "\n",
    "> This data set contains information about 10,000 movies collected from The Movie Database (TMDb),including user ratings and revenue. The aim of this report is to explore the dataset and draw some insights such as most popular movies, best-selling films, most profitable movies and curious facts about directors, genres and cast. \n",
    "> \n",
    "> The research questions that will be analyzed in this project are:\n",
    "> 1) Are the best-selling movies also the most popular?\n",
    "\n",
    "> 2) Do top-selling movies and most popular movies share the same director?\n",
    "\n",
    "> 3) Which year had the most movie releases?\n",
    "\n",
    "> 4) Which movies are the most profitable?\n",
    "\n",
    "> 5) Do any of the directors with the most number of films also appear in the top-selling or most popular movie lists?\n",
    "\n",
    "> 6) Is there a relationship between budget and popularity?\n",
    "\n",
    "> 7) Which are the preferred movie genres?\n",
    "\n",
    "> 8) Who are the actors or actresses that appear the most in this dataset films?"
   ]
  },
  {
   "cell_type": "markdown",
   "id": "ce19e87f",
   "metadata": {},
   "source": [
    "## Data Wrangling"
   ]
  },
  {
   "cell_type": "code",
   "execution_count": 1,
   "id": "86a4be0e",
   "metadata": {},
   "outputs": [],
   "source": [
    "#Load packages\n",
    "import pandas as pd\n",
    "%matplotlib inline\n",
    "import numpy as np\n",
    "import matplotlib.pyplot as plt"
   ]
  },
  {
   "cell_type": "code",
   "execution_count": 2,
   "id": "342dfaba",
   "metadata": {},
   "outputs": [
    {
     "name": "stdout",
     "output_type": "stream",
     "text": [
      "           id    imdb_id  popularity     budget     revenue  \\\n",
      "0      135397  tt0369610   32.985763  150000000  1513528810   \n",
      "1       76341  tt1392190   28.419936  150000000   378436354   \n",
      "2      262500  tt2908446   13.112507  110000000   295238201   \n",
      "3      140607  tt2488496   11.173104  200000000  2068178225   \n",
      "4      168259  tt2820852    9.335014  190000000  1506249360   \n",
      "...       ...        ...         ...        ...         ...   \n",
      "10861      21  tt0060371    0.080598          0           0   \n",
      "10862   20379  tt0060472    0.065543          0           0   \n",
      "10863   39768  tt0060161    0.065141          0           0   \n",
      "10864   21449  tt0061177    0.064317          0           0   \n",
      "10865   22293  tt0060666    0.035919      19000           0   \n",
      "\n",
      "                     original_title  \\\n",
      "0                    Jurassic World   \n",
      "1                Mad Max: Fury Road   \n",
      "2                         Insurgent   \n",
      "3      Star Wars: The Force Awakens   \n",
      "4                         Furious 7   \n",
      "...                             ...   \n",
      "10861            The Endless Summer   \n",
      "10862                    Grand Prix   \n",
      "10863           Beregis Avtomobilya   \n",
      "10864        What's Up, Tiger Lily?   \n",
      "10865      Manos: The Hands of Fate   \n",
      "\n",
      "                                                    cast  \\\n",
      "0      Chris Pratt|Bryce Dallas Howard|Irrfan Khan|Vi...   \n",
      "1      Tom Hardy|Charlize Theron|Hugh Keays-Byrne|Nic...   \n",
      "2      Shailene Woodley|Theo James|Kate Winslet|Ansel...   \n",
      "3      Harrison Ford|Mark Hamill|Carrie Fisher|Adam D...   \n",
      "4      Vin Diesel|Paul Walker|Jason Statham|Michelle ...   \n",
      "...                                                  ...   \n",
      "10861  Michael Hynson|Robert August|Lord 'Tally Ho' B...   \n",
      "10862  James Garner|Eva Marie Saint|Yves Montand|Tosh...   \n",
      "10863  Innokentiy Smoktunovskiy|Oleg Efremov|Georgi Z...   \n",
      "10864  Tatsuya Mihashi|Akiko Wakabayashi|Mie Hama|Joh...   \n",
      "10865  Harold P. Warren|Tom Neyman|John Reynolds|Dian...   \n",
      "\n",
      "                                                homepage            director  \\\n",
      "0                          http://www.jurassicworld.com/     Colin Trevorrow   \n",
      "1                            http://www.madmaxmovie.com/       George Miller   \n",
      "2         http://www.thedivergentseries.movie/#insurgent    Robert Schwentke   \n",
      "3      http://www.starwars.com/films/star-wars-episod...         J.J. Abrams   \n",
      "4                               http://www.furious7.com/           James Wan   \n",
      "...                                                  ...                 ...   \n",
      "10861                                                NaN         Bruce Brown   \n",
      "10862                                                NaN  John Frankenheimer   \n",
      "10863                                                NaN      Eldar Ryazanov   \n",
      "10864                                                NaN         Woody Allen   \n",
      "10865                                                NaN    Harold P. Warren   \n",
      "\n",
      "                                                 tagline  ...  \\\n",
      "0                                      The park is open.  ...   \n",
      "1                                     What a Lovely Day.  ...   \n",
      "2                             One Choice Can Destroy You  ...   \n",
      "3                          Every generation has a story.  ...   \n",
      "4                                    Vengeance Hits Home  ...   \n",
      "...                                                  ...  ...   \n",
      "10861                                                NaN  ...   \n",
      "10862  Cinerama sweeps YOU into a drama of speed and ...  ...   \n",
      "10863                                                NaN  ...   \n",
      "10864                          WOODY ALLEN STRIKES BACK!  ...   \n",
      "10865       It's Shocking! It's Beyond Your Imagination!  ...   \n",
      "\n",
      "                                                overview runtime  \\\n",
      "0      Twenty-two years after the events of Jurassic ...     124   \n",
      "1      An apocalyptic story set in the furthest reach...     120   \n",
      "2      Beatrice Prior must confront her inner demons ...     119   \n",
      "3      Thirty years after defeating the Galactic Empi...     136   \n",
      "4      Deckard Shaw seeks revenge against Dominic Tor...     137   \n",
      "...                                                  ...     ...   \n",
      "10861  The Endless Summer, by Bruce Brown, is one of ...      95   \n",
      "10862  Grand Prix driver Pete Aron is fired by his te...     176   \n",
      "10863  An insurance agent who moonlights as a carthie...      94   \n",
      "10864  In comic Woody Allen's film debut, he took the...      80   \n",
      "10865  A family gets lost on the road and stumbles up...      74   \n",
      "\n",
      "                                          genres  \\\n",
      "0      Action|Adventure|Science Fiction|Thriller   \n",
      "1      Action|Adventure|Science Fiction|Thriller   \n",
      "2             Adventure|Science Fiction|Thriller   \n",
      "3       Action|Adventure|Science Fiction|Fantasy   \n",
      "4                          Action|Crime|Thriller   \n",
      "...                                          ...   \n",
      "10861                                Documentary   \n",
      "10862                     Action|Adventure|Drama   \n",
      "10863                             Mystery|Comedy   \n",
      "10864                              Action|Comedy   \n",
      "10865                                     Horror   \n",
      "\n",
      "                                    production_companies release_date  \\\n",
      "0      Universal Studios|Amblin Entertainment|Legenda...       6/9/15   \n",
      "1      Village Roadshow Pictures|Kennedy Miller Produ...      5/13/15   \n",
      "2      Summit Entertainment|Mandeville Films|Red Wago...      3/18/15   \n",
      "3              Lucasfilm|Truenorth Productions|Bad Robot     12/15/15   \n",
      "4      Universal Pictures|Original Film|Media Rights ...       4/1/15   \n",
      "...                                                  ...          ...   \n",
      "10861                                  Bruce Brown Films      6/15/66   \n",
      "10862  Cherokee Productions|Joel Productions|Douglas ...     12/21/66   \n",
      "10863                                            Mosfilm       1/1/66   \n",
      "10864                            Benedict Pictures Corp.      11/2/66   \n",
      "10865                                          Norm-Iris     11/15/66   \n",
      "\n",
      "      vote_count  vote_average  release_year    budget_adj   revenue_adj  \n",
      "0           5562           6.5          2015  1.379999e+08  1.392446e+09  \n",
      "1           6185           7.1          2015  1.379999e+08  3.481613e+08  \n",
      "2           2480           6.3          2015  1.012000e+08  2.716190e+08  \n",
      "3           5292           7.5          2015  1.839999e+08  1.902723e+09  \n",
      "4           2947           7.3          2015  1.747999e+08  1.385749e+09  \n",
      "...          ...           ...           ...           ...           ...  \n",
      "10861         11           7.4          1966  0.000000e+00  0.000000e+00  \n",
      "10862         20           5.7          1966  0.000000e+00  0.000000e+00  \n",
      "10863         11           6.5          1966  0.000000e+00  0.000000e+00  \n",
      "10864         22           5.4          1966  0.000000e+00  0.000000e+00  \n",
      "10865         15           1.5          1966  1.276423e+05  0.000000e+00  \n",
      "\n",
      "[10866 rows x 21 columns]\n"
     ]
    }
   ],
   "source": [
    "#Import and read input file\n",
    "df = pd.read_csv (r'C:\\Users\\jlasa001\\Documents\\Data Analytics Learning Path - Udacity\\Investigate a Dataset Project\\tmdb-movies.csv')\n",
    "print (df)"
   ]
  },
  {
   "cell_type": "code",
   "execution_count": 3,
   "id": "7368ad0c",
   "metadata": {},
   "outputs": [
    {
     "data": {
      "text/plain": [
       "(10866, 21)"
      ]
     },
     "execution_count": 3,
     "metadata": {},
     "output_type": "execute_result"
    }
   ],
   "source": [
    "#Showing the structure of the dataset\n",
    "df.shape"
   ]
  },
  {
   "cell_type": "code",
   "execution_count": 4,
   "id": "f7a257b1",
   "metadata": {},
   "outputs": [
    {
     "data": {
      "text/plain": [
       "id                        int64\n",
       "imdb_id                  object\n",
       "popularity              float64\n",
       "budget                    int64\n",
       "revenue                   int64\n",
       "original_title           object\n",
       "cast                     object\n",
       "homepage                 object\n",
       "director                 object\n",
       "tagline                  object\n",
       "keywords                 object\n",
       "overview                 object\n",
       "runtime                   int64\n",
       "genres                   object\n",
       "production_companies     object\n",
       "release_date             object\n",
       "vote_count                int64\n",
       "vote_average            float64\n",
       "release_year              int64\n",
       "budget_adj              float64\n",
       "revenue_adj             float64\n",
       "dtype: object"
      ]
     },
     "execution_count": 4,
     "metadata": {},
     "output_type": "execute_result"
    }
   ],
   "source": [
    "#Data types\n",
    "df.dtypes"
   ]
  },
  {
   "cell_type": "code",
   "execution_count": 26,
   "id": "63ed7f74",
   "metadata": {},
   "outputs": [
    {
     "name": "stdout",
     "output_type": "stream",
     "text": [
      "<class 'pandas.core.frame.DataFrame'>\n",
      "RangeIndex: 10866 entries, 0 to 10865\n",
      "Data columns (total 21 columns):\n",
      " #   Column                Non-Null Count  Dtype  \n",
      "---  ------                --------------  -----  \n",
      " 0   id                    10866 non-null  int64  \n",
      " 1   imdb_id               10856 non-null  object \n",
      " 2   popularity            10866 non-null  float64\n",
      " 3   budget                10866 non-null  int64  \n",
      " 4   revenue               10866 non-null  int64  \n",
      " 5   original_title        10866 non-null  object \n",
      " 6   cast                  10866 non-null  object \n",
      " 7   homepage              2936 non-null   object \n",
      " 8   director              10822 non-null  object \n",
      " 9   tagline               8042 non-null   object \n",
      " 10  keywords              9373 non-null   object \n",
      " 11  overview              10862 non-null  object \n",
      " 12  runtime               10866 non-null  int64  \n",
      " 13  genres                10843 non-null  object \n",
      " 14  production_companies  9836 non-null   object \n",
      " 15  release_date          10866 non-null  object \n",
      " 16  vote_count            10866 non-null  int64  \n",
      " 17  vote_average          10866 non-null  float64\n",
      " 18  release_year          10866 non-null  int64  \n",
      " 19  budget_adj            10866 non-null  float64\n",
      " 20  revenue_adj           10866 non-null  float64\n",
      "dtypes: float64(4), int64(6), object(11)\n",
      "memory usage: 1.7+ MB\n"
     ]
    }
   ],
   "source": [
    "#Checking for NA values\n",
    "df.info()"
   ]
  },
  {
   "cell_type": "code",
   "execution_count": 6,
   "id": "407b423c",
   "metadata": {},
   "outputs": [
    {
     "data": {
      "text/plain": [
       "id                      10865\n",
       "imdb_id                 10855\n",
       "popularity              10814\n",
       "budget                    557\n",
       "revenue                  4702\n",
       "original_title          10571\n",
       "cast                    10719\n",
       "homepage                 2896\n",
       "director                 5067\n",
       "tagline                  7997\n",
       "keywords                 8804\n",
       "overview                10847\n",
       "runtime                   247\n",
       "genres                   2039\n",
       "production_companies     7445\n",
       "release_date             5909\n",
       "vote_count               1289\n",
       "vote_average               72\n",
       "release_year               56\n",
       "budget_adj               2614\n",
       "revenue_adj              4840\n",
       "dtype: int64"
      ]
     },
     "execution_count": 6,
     "metadata": {},
     "output_type": "execute_result"
    }
   ],
   "source": [
    "#Checking for duplicate values\n",
    "df.nunique()"
   ]
  },
  {
   "cell_type": "code",
   "execution_count": 5,
   "id": "5ae7f0e9",
   "metadata": {},
   "outputs": [
    {
     "data": {
      "text/plain": [
       "1"
      ]
     },
     "execution_count": 5,
     "metadata": {},
     "output_type": "execute_result"
    }
   ],
   "source": [
    "sum(df.duplicated())"
   ]
  },
  {
   "cell_type": "code",
   "execution_count": 7,
   "id": "fca6fcd9",
   "metadata": {},
   "outputs": [
    {
     "data": {
      "text/html": [
       "<div>\n",
       "<style scoped>\n",
       "    .dataframe tbody tr th:only-of-type {\n",
       "        vertical-align: middle;\n",
       "    }\n",
       "\n",
       "    .dataframe tbody tr th {\n",
       "        vertical-align: top;\n",
       "    }\n",
       "\n",
       "    .dataframe thead th {\n",
       "        text-align: right;\n",
       "    }\n",
       "</style>\n",
       "<table border=\"1\" class=\"dataframe\">\n",
       "  <thead>\n",
       "    <tr style=\"text-align: right;\">\n",
       "      <th></th>\n",
       "      <th>id</th>\n",
       "      <th>popularity</th>\n",
       "      <th>budget</th>\n",
       "      <th>revenue</th>\n",
       "      <th>runtime</th>\n",
       "      <th>vote_count</th>\n",
       "      <th>vote_average</th>\n",
       "      <th>release_year</th>\n",
       "      <th>budget_adj</th>\n",
       "      <th>revenue_adj</th>\n",
       "    </tr>\n",
       "  </thead>\n",
       "  <tbody>\n",
       "    <tr>\n",
       "      <th>count</th>\n",
       "      <td>10866.000000</td>\n",
       "      <td>10866.000000</td>\n",
       "      <td>1.086600e+04</td>\n",
       "      <td>1.086600e+04</td>\n",
       "      <td>10866.000000</td>\n",
       "      <td>10866.000000</td>\n",
       "      <td>10866.000000</td>\n",
       "      <td>10866.000000</td>\n",
       "      <td>1.086600e+04</td>\n",
       "      <td>1.086600e+04</td>\n",
       "    </tr>\n",
       "    <tr>\n",
       "      <th>mean</th>\n",
       "      <td>66064.177434</td>\n",
       "      <td>0.646441</td>\n",
       "      <td>1.462570e+07</td>\n",
       "      <td>3.982332e+07</td>\n",
       "      <td>102.070863</td>\n",
       "      <td>217.389748</td>\n",
       "      <td>5.974922</td>\n",
       "      <td>2001.322658</td>\n",
       "      <td>1.755104e+07</td>\n",
       "      <td>5.136436e+07</td>\n",
       "    </tr>\n",
       "    <tr>\n",
       "      <th>std</th>\n",
       "      <td>92130.136561</td>\n",
       "      <td>1.000185</td>\n",
       "      <td>3.091321e+07</td>\n",
       "      <td>1.170035e+08</td>\n",
       "      <td>31.381405</td>\n",
       "      <td>575.619058</td>\n",
       "      <td>0.935142</td>\n",
       "      <td>12.812941</td>\n",
       "      <td>3.430616e+07</td>\n",
       "      <td>1.446325e+08</td>\n",
       "    </tr>\n",
       "    <tr>\n",
       "      <th>min</th>\n",
       "      <td>5.000000</td>\n",
       "      <td>0.000065</td>\n",
       "      <td>0.000000e+00</td>\n",
       "      <td>0.000000e+00</td>\n",
       "      <td>0.000000</td>\n",
       "      <td>10.000000</td>\n",
       "      <td>1.500000</td>\n",
       "      <td>1960.000000</td>\n",
       "      <td>0.000000e+00</td>\n",
       "      <td>0.000000e+00</td>\n",
       "    </tr>\n",
       "    <tr>\n",
       "      <th>25%</th>\n",
       "      <td>10596.250000</td>\n",
       "      <td>0.207583</td>\n",
       "      <td>0.000000e+00</td>\n",
       "      <td>0.000000e+00</td>\n",
       "      <td>90.000000</td>\n",
       "      <td>17.000000</td>\n",
       "      <td>5.400000</td>\n",
       "      <td>1995.000000</td>\n",
       "      <td>0.000000e+00</td>\n",
       "      <td>0.000000e+00</td>\n",
       "    </tr>\n",
       "    <tr>\n",
       "      <th>50%</th>\n",
       "      <td>20669.000000</td>\n",
       "      <td>0.383856</td>\n",
       "      <td>0.000000e+00</td>\n",
       "      <td>0.000000e+00</td>\n",
       "      <td>99.000000</td>\n",
       "      <td>38.000000</td>\n",
       "      <td>6.000000</td>\n",
       "      <td>2006.000000</td>\n",
       "      <td>0.000000e+00</td>\n",
       "      <td>0.000000e+00</td>\n",
       "    </tr>\n",
       "    <tr>\n",
       "      <th>75%</th>\n",
       "      <td>75610.000000</td>\n",
       "      <td>0.713817</td>\n",
       "      <td>1.500000e+07</td>\n",
       "      <td>2.400000e+07</td>\n",
       "      <td>111.000000</td>\n",
       "      <td>145.750000</td>\n",
       "      <td>6.600000</td>\n",
       "      <td>2011.000000</td>\n",
       "      <td>2.085325e+07</td>\n",
       "      <td>3.369710e+07</td>\n",
       "    </tr>\n",
       "    <tr>\n",
       "      <th>max</th>\n",
       "      <td>417859.000000</td>\n",
       "      <td>32.985763</td>\n",
       "      <td>4.250000e+08</td>\n",
       "      <td>2.781506e+09</td>\n",
       "      <td>900.000000</td>\n",
       "      <td>9767.000000</td>\n",
       "      <td>9.200000</td>\n",
       "      <td>2015.000000</td>\n",
       "      <td>4.250000e+08</td>\n",
       "      <td>2.827124e+09</td>\n",
       "    </tr>\n",
       "  </tbody>\n",
       "</table>\n",
       "</div>"
      ],
      "text/plain": [
       "                  id    popularity        budget       revenue       runtime  \\\n",
       "count   10866.000000  10866.000000  1.086600e+04  1.086600e+04  10866.000000   \n",
       "mean    66064.177434      0.646441  1.462570e+07  3.982332e+07    102.070863   \n",
       "std     92130.136561      1.000185  3.091321e+07  1.170035e+08     31.381405   \n",
       "min         5.000000      0.000065  0.000000e+00  0.000000e+00      0.000000   \n",
       "25%     10596.250000      0.207583  0.000000e+00  0.000000e+00     90.000000   \n",
       "50%     20669.000000      0.383856  0.000000e+00  0.000000e+00     99.000000   \n",
       "75%     75610.000000      0.713817  1.500000e+07  2.400000e+07    111.000000   \n",
       "max    417859.000000     32.985763  4.250000e+08  2.781506e+09    900.000000   \n",
       "\n",
       "         vote_count  vote_average  release_year    budget_adj   revenue_adj  \n",
       "count  10866.000000  10866.000000  10866.000000  1.086600e+04  1.086600e+04  \n",
       "mean     217.389748      5.974922   2001.322658  1.755104e+07  5.136436e+07  \n",
       "std      575.619058      0.935142     12.812941  3.430616e+07  1.446325e+08  \n",
       "min       10.000000      1.500000   1960.000000  0.000000e+00  0.000000e+00  \n",
       "25%       17.000000      5.400000   1995.000000  0.000000e+00  0.000000e+00  \n",
       "50%       38.000000      6.000000   2006.000000  0.000000e+00  0.000000e+00  \n",
       "75%      145.750000      6.600000   2011.000000  2.085325e+07  3.369710e+07  \n",
       "max     9767.000000      9.200000   2015.000000  4.250000e+08  2.827124e+09  "
      ]
     },
     "execution_count": 7,
     "metadata": {},
     "output_type": "execute_result"
    }
   ],
   "source": [
    "#Pulling basic descriptive statistics\n",
    "df.describe()"
   ]
  },
  {
   "cell_type": "code",
   "execution_count": 36,
   "id": "07b42b95",
   "metadata": {},
   "outputs": [
    {
     "data": {
      "text/html": [
       "<div>\n",
       "<style scoped>\n",
       "    .dataframe tbody tr th:only-of-type {\n",
       "        vertical-align: middle;\n",
       "    }\n",
       "\n",
       "    .dataframe tbody tr th {\n",
       "        vertical-align: top;\n",
       "    }\n",
       "\n",
       "    .dataframe thead th {\n",
       "        text-align: right;\n",
       "    }\n",
       "</style>\n",
       "<table border=\"1\" class=\"dataframe\">\n",
       "  <thead>\n",
       "    <tr style=\"text-align: right;\">\n",
       "      <th></th>\n",
       "      <th>id</th>\n",
       "      <th>imdb_id</th>\n",
       "      <th>popularity</th>\n",
       "      <th>budget</th>\n",
       "      <th>revenue</th>\n",
       "      <th>original_title</th>\n",
       "      <th>cast</th>\n",
       "      <th>homepage</th>\n",
       "      <th>director</th>\n",
       "      <th>tagline</th>\n",
       "      <th>...</th>\n",
       "      <th>overview</th>\n",
       "      <th>runtime</th>\n",
       "      <th>genres</th>\n",
       "      <th>production_companies</th>\n",
       "      <th>release_date</th>\n",
       "      <th>vote_count</th>\n",
       "      <th>vote_average</th>\n",
       "      <th>release_year</th>\n",
       "      <th>budget_adj</th>\n",
       "      <th>revenue_adj</th>\n",
       "    </tr>\n",
       "  </thead>\n",
       "  <tbody>\n",
       "    <tr>\n",
       "      <th>0</th>\n",
       "      <td>135397</td>\n",
       "      <td>tt0369610</td>\n",
       "      <td>32.985763</td>\n",
       "      <td>150000000</td>\n",
       "      <td>1513528810</td>\n",
       "      <td>Jurassic World</td>\n",
       "      <td>0        0        0        0        Chris Prat...</td>\n",
       "      <td>http://www.jurassicworld.com/</td>\n",
       "      <td>Colin Trevorrow</td>\n",
       "      <td>The park is open.</td>\n",
       "      <td>...</td>\n",
       "      <td>Twenty-two years after the events of Jurassic ...</td>\n",
       "      <td>124</td>\n",
       "      <td>Action|Adventure|Science Fiction|Thriller</td>\n",
       "      <td>Universal Studios|Amblin Entertainment|Legenda...</td>\n",
       "      <td>6/9/15</td>\n",
       "      <td>5562</td>\n",
       "      <td>6.5</td>\n",
       "      <td>2015</td>\n",
       "      <td>1.379999e+08</td>\n",
       "      <td>1.392446e+09</td>\n",
       "    </tr>\n",
       "    <tr>\n",
       "      <th>1</th>\n",
       "      <td>76341</td>\n",
       "      <td>tt1392190</td>\n",
       "      <td>28.419936</td>\n",
       "      <td>150000000</td>\n",
       "      <td>378436354</td>\n",
       "      <td>Mad Max: Fury Road</td>\n",
       "      <td>0        0        0        0        Chris Prat...</td>\n",
       "      <td>http://www.madmaxmovie.com/</td>\n",
       "      <td>George Miller</td>\n",
       "      <td>What a Lovely Day.</td>\n",
       "      <td>...</td>\n",
       "      <td>An apocalyptic story set in the furthest reach...</td>\n",
       "      <td>120</td>\n",
       "      <td>Action|Adventure|Science Fiction|Thriller</td>\n",
       "      <td>Village Roadshow Pictures|Kennedy Miller Produ...</td>\n",
       "      <td>5/13/15</td>\n",
       "      <td>6185</td>\n",
       "      <td>7.1</td>\n",
       "      <td>2015</td>\n",
       "      <td>1.379999e+08</td>\n",
       "      <td>3.481613e+08</td>\n",
       "    </tr>\n",
       "    <tr>\n",
       "      <th>2</th>\n",
       "      <td>262500</td>\n",
       "      <td>tt2908446</td>\n",
       "      <td>13.112507</td>\n",
       "      <td>110000000</td>\n",
       "      <td>295238201</td>\n",
       "      <td>Insurgent</td>\n",
       "      <td>0        0        0        0        Chris Prat...</td>\n",
       "      <td>http://www.thedivergentseries.movie/#insurgent</td>\n",
       "      <td>Robert Schwentke</td>\n",
       "      <td>One Choice Can Destroy You</td>\n",
       "      <td>...</td>\n",
       "      <td>Beatrice Prior must confront her inner demons ...</td>\n",
       "      <td>119</td>\n",
       "      <td>Adventure|Science Fiction|Thriller</td>\n",
       "      <td>Summit Entertainment|Mandeville Films|Red Wago...</td>\n",
       "      <td>3/18/15</td>\n",
       "      <td>2480</td>\n",
       "      <td>6.3</td>\n",
       "      <td>2015</td>\n",
       "      <td>1.012000e+08</td>\n",
       "      <td>2.716190e+08</td>\n",
       "    </tr>\n",
       "    <tr>\n",
       "      <th>3</th>\n",
       "      <td>140607</td>\n",
       "      <td>tt2488496</td>\n",
       "      <td>11.173104</td>\n",
       "      <td>200000000</td>\n",
       "      <td>2068178225</td>\n",
       "      <td>Star Wars: The Force Awakens</td>\n",
       "      <td>0        0        0        0        Chris Prat...</td>\n",
       "      <td>http://www.starwars.com/films/star-wars-episod...</td>\n",
       "      <td>J.J. Abrams</td>\n",
       "      <td>Every generation has a story.</td>\n",
       "      <td>...</td>\n",
       "      <td>Thirty years after defeating the Galactic Empi...</td>\n",
       "      <td>136</td>\n",
       "      <td>Action|Adventure|Science Fiction|Fantasy</td>\n",
       "      <td>Lucasfilm|Truenorth Productions|Bad Robot</td>\n",
       "      <td>12/15/15</td>\n",
       "      <td>5292</td>\n",
       "      <td>7.5</td>\n",
       "      <td>2015</td>\n",
       "      <td>1.839999e+08</td>\n",
       "      <td>1.902723e+09</td>\n",
       "    </tr>\n",
       "    <tr>\n",
       "      <th>4</th>\n",
       "      <td>168259</td>\n",
       "      <td>tt2820852</td>\n",
       "      <td>9.335014</td>\n",
       "      <td>190000000</td>\n",
       "      <td>1506249360</td>\n",
       "      <td>Furious 7</td>\n",
       "      <td>0        0        0        0        Chris Prat...</td>\n",
       "      <td>http://www.furious7.com/</td>\n",
       "      <td>James Wan</td>\n",
       "      <td>Vengeance Hits Home</td>\n",
       "      <td>...</td>\n",
       "      <td>Deckard Shaw seeks revenge against Dominic Tor...</td>\n",
       "      <td>137</td>\n",
       "      <td>Action|Crime|Thriller</td>\n",
       "      <td>Universal Pictures|Original Film|Media Rights ...</td>\n",
       "      <td>4/1/15</td>\n",
       "      <td>2947</td>\n",
       "      <td>7.3</td>\n",
       "      <td>2015</td>\n",
       "      <td>1.747999e+08</td>\n",
       "      <td>1.385749e+09</td>\n",
       "    </tr>\n",
       "  </tbody>\n",
       "</table>\n",
       "<p>5 rows × 21 columns</p>\n",
       "</div>"
      ],
      "text/plain": [
       "       id    imdb_id  popularity     budget     revenue  \\\n",
       "0  135397  tt0369610   32.985763  150000000  1513528810   \n",
       "1   76341  tt1392190   28.419936  150000000   378436354   \n",
       "2  262500  tt2908446   13.112507  110000000   295238201   \n",
       "3  140607  tt2488496   11.173104  200000000  2068178225   \n",
       "4  168259  tt2820852    9.335014  190000000  1506249360   \n",
       "\n",
       "                 original_title  \\\n",
       "0                Jurassic World   \n",
       "1            Mad Max: Fury Road   \n",
       "2                     Insurgent   \n",
       "3  Star Wars: The Force Awakens   \n",
       "4                     Furious 7   \n",
       "\n",
       "                                                cast  \\\n",
       "0  0        0        0        0        Chris Prat...   \n",
       "1  0        0        0        0        Chris Prat...   \n",
       "2  0        0        0        0        Chris Prat...   \n",
       "3  0        0        0        0        Chris Prat...   \n",
       "4  0        0        0        0        Chris Prat...   \n",
       "\n",
       "                                            homepage          director  \\\n",
       "0                      http://www.jurassicworld.com/   Colin Trevorrow   \n",
       "1                        http://www.madmaxmovie.com/     George Miller   \n",
       "2     http://www.thedivergentseries.movie/#insurgent  Robert Schwentke   \n",
       "3  http://www.starwars.com/films/star-wars-episod...       J.J. Abrams   \n",
       "4                           http://www.furious7.com/         James Wan   \n",
       "\n",
       "                         tagline  ...  \\\n",
       "0              The park is open.  ...   \n",
       "1             What a Lovely Day.  ...   \n",
       "2     One Choice Can Destroy You  ...   \n",
       "3  Every generation has a story.  ...   \n",
       "4            Vengeance Hits Home  ...   \n",
       "\n",
       "                                            overview runtime  \\\n",
       "0  Twenty-two years after the events of Jurassic ...     124   \n",
       "1  An apocalyptic story set in the furthest reach...     120   \n",
       "2  Beatrice Prior must confront her inner demons ...     119   \n",
       "3  Thirty years after defeating the Galactic Empi...     136   \n",
       "4  Deckard Shaw seeks revenge against Dominic Tor...     137   \n",
       "\n",
       "                                      genres  \\\n",
       "0  Action|Adventure|Science Fiction|Thriller   \n",
       "1  Action|Adventure|Science Fiction|Thriller   \n",
       "2         Adventure|Science Fiction|Thriller   \n",
       "3   Action|Adventure|Science Fiction|Fantasy   \n",
       "4                      Action|Crime|Thriller   \n",
       "\n",
       "                                production_companies release_date vote_count  \\\n",
       "0  Universal Studios|Amblin Entertainment|Legenda...       6/9/15       5562   \n",
       "1  Village Roadshow Pictures|Kennedy Miller Produ...      5/13/15       6185   \n",
       "2  Summit Entertainment|Mandeville Films|Red Wago...      3/18/15       2480   \n",
       "3          Lucasfilm|Truenorth Productions|Bad Robot     12/15/15       5292   \n",
       "4  Universal Pictures|Original Film|Media Rights ...       4/1/15       2947   \n",
       "\n",
       "   vote_average  release_year    budget_adj   revenue_adj  \n",
       "0           6.5          2015  1.379999e+08  1.392446e+09  \n",
       "1           7.1          2015  1.379999e+08  3.481613e+08  \n",
       "2           6.3          2015  1.012000e+08  2.716190e+08  \n",
       "3           7.5          2015  1.839999e+08  1.902723e+09  \n",
       "4           7.3          2015  1.747999e+08  1.385749e+09  \n",
       "\n",
       "[5 rows x 21 columns]"
      ]
     },
     "execution_count": 36,
     "metadata": {},
     "output_type": "execute_result"
    }
   ],
   "source": [
    "#Looking at the first rows of the dataset\n",
    "df.head()"
   ]
  },
  {
   "cell_type": "code",
   "execution_count": 34,
   "id": "858dd44e",
   "metadata": {},
   "outputs": [],
   "source": [
    "#Creating a function to calculate the median\n",
    "def df_median(column):\n",
    "    return df[column].median()"
   ]
  },
  {
   "cell_type": "code",
   "execution_count": 22,
   "id": "6035c71e",
   "metadata": {},
   "outputs": [
    {
     "data": {
      "text/plain": [
       "0.0"
      ]
     },
     "execution_count": 22,
     "metadata": {},
     "output_type": "execute_result"
    }
   ],
   "source": [
    "df_median('revenue_adj')"
   ]
  },
  {
   "cell_type": "code",
   "execution_count": 28,
   "id": "0a23c019",
   "metadata": {},
   "outputs": [
    {
     "data": {
      "text/plain": [
       "0.0"
      ]
     },
     "execution_count": 28,
     "metadata": {},
     "output_type": "execute_result"
    }
   ],
   "source": [
    "df_median('budget_adj')"
   ]
  },
  {
   "cell_type": "code",
   "execution_count": 29,
   "id": "f76e3b8e",
   "metadata": {},
   "outputs": [
    {
     "data": {
      "text/plain": [
       "99.0"
      ]
     },
     "execution_count": 29,
     "metadata": {},
     "output_type": "execute_result"
    }
   ],
   "source": [
    "df_median('runtime')"
   ]
  },
  {
   "cell_type": "code",
   "execution_count": 30,
   "id": "2da346ec",
   "metadata": {},
   "outputs": [
    {
     "data": {
      "text/plain": [
       "38.0"
      ]
     },
     "execution_count": 30,
     "metadata": {},
     "output_type": "execute_result"
    }
   ],
   "source": [
    "df_median('vote_count')"
   ]
  },
  {
   "cell_type": "code",
   "execution_count": 31,
   "id": "cb97dcf6",
   "metadata": {},
   "outputs": [
    {
     "data": {
      "text/plain": [
       "6.0"
      ]
     },
     "execution_count": 31,
     "metadata": {},
     "output_type": "execute_result"
    }
   ],
   "source": [
    "df_median('vote_average')"
   ]
  },
  {
   "cell_type": "code",
   "execution_count": 33,
   "id": "bca68a82",
   "metadata": {},
   "outputs": [
    {
     "data": {
      "text/plain": [
       "0.3838555"
      ]
     },
     "execution_count": 33,
     "metadata": {},
     "output_type": "execute_result"
    }
   ],
   "source": [
    "df_median('popularity')"
   ]
  },
  {
   "cell_type": "code",
   "execution_count": 19,
   "id": "05b49a78",
   "metadata": {},
   "outputs": [
    {
     "data": {
      "text/plain": [
       "(4850, 36)"
      ]
     },
     "execution_count": 19,
     "metadata": {},
     "output_type": "execute_result"
    }
   ],
   "source": [
    "#How is the dataframe split based on revenue after median calculation \n",
    "high_revenue = df.query('revenue_adj > 0.0')\n",
    "high_revenue.shape"
   ]
  },
  {
   "cell_type": "markdown",
   "id": "0d01ec79",
   "metadata": {},
   "source": [
    "## Data Cleaning"
   ]
  },
  {
   "cell_type": "markdown",
   "id": "2f27c9f1",
   "metadata": {},
   "source": [
    "The dataset is pretty clear. The missing values in this dataset seems to come from the object data types. There's just one duplicated value, so there's no further action down that alley. The only remaining thing to be done is to separate some of the columns as there are names wrapped together."
   ]
  },
  {
   "cell_type": "code",
   "execution_count": 8,
   "id": "f2516eef",
   "metadata": {},
   "outputs": [],
   "source": [
    "#Splitting cast column by '|'\n",
    "df[['cast_1', 'cast_2', 'cast_3', 'cast_4', 'cast_5']] = df['cast'].str.split('|', expand=True)"
   ]
  },
  {
   "cell_type": "markdown",
   "id": "8e69bc3e",
   "metadata": {},
   "source": [
    "## Exploratory Data Analysis"
   ]
  },
  {
   "cell_type": "markdown",
   "id": "b32f66d2",
   "metadata": {},
   "source": [
    "## Research Question # 1: Are the best-selling movies also the most popular?"
   ]
  },
  {
   "cell_type": "code",
   "execution_count": 11,
   "id": "faa33abc",
   "metadata": {},
   "outputs": [
    {
     "data": {
      "text/html": [
       "<div>\n",
       "<style scoped>\n",
       "    .dataframe tbody tr th:only-of-type {\n",
       "        vertical-align: middle;\n",
       "    }\n",
       "\n",
       "    .dataframe tbody tr th {\n",
       "        vertical-align: top;\n",
       "    }\n",
       "\n",
       "    .dataframe thead th {\n",
       "        text-align: right;\n",
       "    }\n",
       "</style>\n",
       "<table border=\"1\" class=\"dataframe\">\n",
       "  <thead>\n",
       "    <tr style=\"text-align: right;\">\n",
       "      <th></th>\n",
       "      <th>id</th>\n",
       "      <th>imdb_id</th>\n",
       "      <th>popularity</th>\n",
       "      <th>budget</th>\n",
       "      <th>revenue</th>\n",
       "      <th>original_title</th>\n",
       "      <th>cast</th>\n",
       "      <th>homepage</th>\n",
       "      <th>director</th>\n",
       "      <th>tagline</th>\n",
       "      <th>...</th>\n",
       "      <th>overview</th>\n",
       "      <th>runtime</th>\n",
       "      <th>genres</th>\n",
       "      <th>production_companies</th>\n",
       "      <th>release_date</th>\n",
       "      <th>vote_count</th>\n",
       "      <th>vote_average</th>\n",
       "      <th>release_year</th>\n",
       "      <th>budget_adj</th>\n",
       "      <th>revenue_adj</th>\n",
       "    </tr>\n",
       "  </thead>\n",
       "  <tbody>\n",
       "    <tr>\n",
       "      <th>1386</th>\n",
       "      <td>19995</td>\n",
       "      <td>tt0499549</td>\n",
       "      <td>9.432768</td>\n",
       "      <td>237000000</td>\n",
       "      <td>2781505847</td>\n",
       "      <td>Avatar</td>\n",
       "      <td>Sam Worthington|Zoe Saldana|Sigourney Weaver|S...</td>\n",
       "      <td>http://www.avatarmovie.com/</td>\n",
       "      <td>James Cameron</td>\n",
       "      <td>Enter the World of Pandora.</td>\n",
       "      <td>...</td>\n",
       "      <td>In the 22nd century, a paraplegic Marine is di...</td>\n",
       "      <td>162</td>\n",
       "      <td>Action|Adventure|Fantasy|Science Fiction</td>\n",
       "      <td>Ingenious Film Partners|Twentieth Century Fox ...</td>\n",
       "      <td>12/10/09</td>\n",
       "      <td>8458</td>\n",
       "      <td>7.1</td>\n",
       "      <td>2009</td>\n",
       "      <td>2.408869e+08</td>\n",
       "      <td>2.827124e+09</td>\n",
       "    </tr>\n",
       "    <tr>\n",
       "      <th>1329</th>\n",
       "      <td>11</td>\n",
       "      <td>tt0076759</td>\n",
       "      <td>12.037933</td>\n",
       "      <td>11000000</td>\n",
       "      <td>775398007</td>\n",
       "      <td>Star Wars</td>\n",
       "      <td>Mark Hamill|Harrison Ford|Carrie Fisher|Peter ...</td>\n",
       "      <td>http://www.starwars.com/films/star-wars-episod...</td>\n",
       "      <td>George Lucas</td>\n",
       "      <td>A long time ago in a galaxy far, far away...</td>\n",
       "      <td>...</td>\n",
       "      <td>Princess Leia is captured and held hostage by ...</td>\n",
       "      <td>121</td>\n",
       "      <td>Adventure|Action|Science Fiction</td>\n",
       "      <td>Lucasfilm|Twentieth Century Fox Film Corporation</td>\n",
       "      <td>3/20/77</td>\n",
       "      <td>4428</td>\n",
       "      <td>7.9</td>\n",
       "      <td>1977</td>\n",
       "      <td>3.957559e+07</td>\n",
       "      <td>2.789712e+09</td>\n",
       "    </tr>\n",
       "    <tr>\n",
       "      <th>5231</th>\n",
       "      <td>597</td>\n",
       "      <td>tt0120338</td>\n",
       "      <td>4.355219</td>\n",
       "      <td>200000000</td>\n",
       "      <td>1845034188</td>\n",
       "      <td>Titanic</td>\n",
       "      <td>Kate Winslet|Leonardo DiCaprio|Frances Fisher|...</td>\n",
       "      <td>http://www.titanicmovie.com/menu.html</td>\n",
       "      <td>James Cameron</td>\n",
       "      <td>Nothing on Earth could come between them.</td>\n",
       "      <td>...</td>\n",
       "      <td>84 years later, a 101-year-old woman named Ros...</td>\n",
       "      <td>194</td>\n",
       "      <td>Drama|Romance|Thriller</td>\n",
       "      <td>Paramount Pictures|Twentieth Century Fox Film ...</td>\n",
       "      <td>11/18/97</td>\n",
       "      <td>4654</td>\n",
       "      <td>7.3</td>\n",
       "      <td>1997</td>\n",
       "      <td>2.716921e+08</td>\n",
       "      <td>2.506406e+09</td>\n",
       "    </tr>\n",
       "    <tr>\n",
       "      <th>10594</th>\n",
       "      <td>9552</td>\n",
       "      <td>tt0070047</td>\n",
       "      <td>2.010733</td>\n",
       "      <td>8000000</td>\n",
       "      <td>441306145</td>\n",
       "      <td>The Exorcist</td>\n",
       "      <td>Linda Blair|Max von Sydow|Ellen Burstyn|Jason ...</td>\n",
       "      <td>http://theexorcist.warnerbros.com/</td>\n",
       "      <td>William Friedkin</td>\n",
       "      <td>Something almost beyond comprehension is happe...</td>\n",
       "      <td>...</td>\n",
       "      <td>12-year-old Regan MacNeil begins to adapt an e...</td>\n",
       "      <td>122</td>\n",
       "      <td>Drama|Horror|Thriller</td>\n",
       "      <td>Warner Bros.|Hoya Productions</td>\n",
       "      <td>12/26/73</td>\n",
       "      <td>1113</td>\n",
       "      <td>7.2</td>\n",
       "      <td>1973</td>\n",
       "      <td>3.928928e+07</td>\n",
       "      <td>2.167325e+09</td>\n",
       "    </tr>\n",
       "    <tr>\n",
       "      <th>9806</th>\n",
       "      <td>578</td>\n",
       "      <td>tt0073195</td>\n",
       "      <td>2.563191</td>\n",
       "      <td>7000000</td>\n",
       "      <td>470654000</td>\n",
       "      <td>Jaws</td>\n",
       "      <td>Roy Scheider|Robert Shaw|Richard Dreyfuss|Lorr...</td>\n",
       "      <td>http://www.jaws25.com/</td>\n",
       "      <td>Steven Spielberg</td>\n",
       "      <td>Don't go in the water.</td>\n",
       "      <td>...</td>\n",
       "      <td>An insatiable great white shark terrorizes the...</td>\n",
       "      <td>124</td>\n",
       "      <td>Horror|Thriller|Adventure</td>\n",
       "      <td>Universal Pictures|Zanuck/Brown Productions</td>\n",
       "      <td>6/18/75</td>\n",
       "      <td>1415</td>\n",
       "      <td>7.3</td>\n",
       "      <td>1975</td>\n",
       "      <td>2.836275e+07</td>\n",
       "      <td>1.907006e+09</td>\n",
       "    </tr>\n",
       "    <tr>\n",
       "      <th>3</th>\n",
       "      <td>140607</td>\n",
       "      <td>tt2488496</td>\n",
       "      <td>11.173104</td>\n",
       "      <td>200000000</td>\n",
       "      <td>2068178225</td>\n",
       "      <td>Star Wars: The Force Awakens</td>\n",
       "      <td>Harrison Ford|Mark Hamill|Carrie Fisher|Adam D...</td>\n",
       "      <td>http://www.starwars.com/films/star-wars-episod...</td>\n",
       "      <td>J.J. Abrams</td>\n",
       "      <td>Every generation has a story.</td>\n",
       "      <td>...</td>\n",
       "      <td>Thirty years after defeating the Galactic Empi...</td>\n",
       "      <td>136</td>\n",
       "      <td>Action|Adventure|Science Fiction|Fantasy</td>\n",
       "      <td>Lucasfilm|Truenorth Productions|Bad Robot</td>\n",
       "      <td>12/15/15</td>\n",
       "      <td>5292</td>\n",
       "      <td>7.5</td>\n",
       "      <td>2015</td>\n",
       "      <td>1.839999e+08</td>\n",
       "      <td>1.902723e+09</td>\n",
       "    </tr>\n",
       "    <tr>\n",
       "      <th>8889</th>\n",
       "      <td>601</td>\n",
       "      <td>tt0083866</td>\n",
       "      <td>2.900556</td>\n",
       "      <td>10500000</td>\n",
       "      <td>792910554</td>\n",
       "      <td>E.T. the Extra-Terrestrial</td>\n",
       "      <td>Henry Thomas|Drew Barrymore|Robert MacNaughton...</td>\n",
       "      <td>http://www.et20.com/</td>\n",
       "      <td>Steven Spielberg</td>\n",
       "      <td>He is afraid. He is alone. He is three million...</td>\n",
       "      <td>...</td>\n",
       "      <td>A science fiction fairytale about an extra-ter...</td>\n",
       "      <td>115</td>\n",
       "      <td>Science Fiction|Adventure|Family|Fantasy</td>\n",
       "      <td>Universal Pictures|Amblin Entertainment</td>\n",
       "      <td>4/3/82</td>\n",
       "      <td>1830</td>\n",
       "      <td>7.2</td>\n",
       "      <td>1982</td>\n",
       "      <td>2.372625e+07</td>\n",
       "      <td>1.791694e+09</td>\n",
       "    </tr>\n",
       "    <tr>\n",
       "      <th>8094</th>\n",
       "      <td>1642</td>\n",
       "      <td>tt0113957</td>\n",
       "      <td>1.136610</td>\n",
       "      <td>22000000</td>\n",
       "      <td>1106279658</td>\n",
       "      <td>The Net</td>\n",
       "      <td>Sandra Bullock|Jeremy Northam|Dennis Miller|We...</td>\n",
       "      <td>NaN</td>\n",
       "      <td>Irwin Winkler</td>\n",
       "      <td>Her driver's license. Her credit cards. Her ba...</td>\n",
       "      <td>...</td>\n",
       "      <td>Angela Bennett is a freelance software enginee...</td>\n",
       "      <td>114</td>\n",
       "      <td>Crime|Drama|Mystery|Thriller|Action</td>\n",
       "      <td>Columbia Pictures</td>\n",
       "      <td>7/28/95</td>\n",
       "      <td>201</td>\n",
       "      <td>5.6</td>\n",
       "      <td>1995</td>\n",
       "      <td>3.148127e+07</td>\n",
       "      <td>1.583050e+09</td>\n",
       "    </tr>\n",
       "    <tr>\n",
       "      <th>10110</th>\n",
       "      <td>12230</td>\n",
       "      <td>tt0055254</td>\n",
       "      <td>2.631987</td>\n",
       "      <td>4000000</td>\n",
       "      <td>215880014</td>\n",
       "      <td>One Hundred and One Dalmatians</td>\n",
       "      <td>Rod Taylor|J. Pat O'Malley|Betty Lou Gerson|Ma...</td>\n",
       "      <td>NaN</td>\n",
       "      <td>Clyde Geronimi|Hamilton Luske|Wolfgang Reitherman</td>\n",
       "      <td>The Canine Caper of the Century</td>\n",
       "      <td>...</td>\n",
       "      <td>When a litter of dalmatian puppies are abducte...</td>\n",
       "      <td>79</td>\n",
       "      <td>Adventure|Animation|Comedy|Family</td>\n",
       "      <td>Walt Disney Productions</td>\n",
       "      <td>1/25/61</td>\n",
       "      <td>913</td>\n",
       "      <td>6.6</td>\n",
       "      <td>1961</td>\n",
       "      <td>2.917944e+07</td>\n",
       "      <td>1.574815e+09</td>\n",
       "    </tr>\n",
       "    <tr>\n",
       "      <th>4361</th>\n",
       "      <td>24428</td>\n",
       "      <td>tt0848228</td>\n",
       "      <td>7.637767</td>\n",
       "      <td>220000000</td>\n",
       "      <td>1519557910</td>\n",
       "      <td>The Avengers</td>\n",
       "      <td>Robert Downey Jr.|Chris Evans|Mark Ruffalo|Chr...</td>\n",
       "      <td>http://marvel.com/avengers_movie/</td>\n",
       "      <td>Joss Whedon</td>\n",
       "      <td>Some assembly required.</td>\n",
       "      <td>...</td>\n",
       "      <td>When an unexpected enemy emerges and threatens...</td>\n",
       "      <td>143</td>\n",
       "      <td>Science Fiction|Action|Adventure</td>\n",
       "      <td>Marvel Studios</td>\n",
       "      <td>4/25/12</td>\n",
       "      <td>8903</td>\n",
       "      <td>7.3</td>\n",
       "      <td>2012</td>\n",
       "      <td>2.089437e+08</td>\n",
       "      <td>1.443191e+09</td>\n",
       "    </tr>\n",
       "  </tbody>\n",
       "</table>\n",
       "<p>10 rows × 21 columns</p>\n",
       "</div>"
      ],
      "text/plain": [
       "           id    imdb_id  popularity     budget     revenue  \\\n",
       "1386    19995  tt0499549    9.432768  237000000  2781505847   \n",
       "1329       11  tt0076759   12.037933   11000000   775398007   \n",
       "5231      597  tt0120338    4.355219  200000000  1845034188   \n",
       "10594    9552  tt0070047    2.010733    8000000   441306145   \n",
       "9806      578  tt0073195    2.563191    7000000   470654000   \n",
       "3      140607  tt2488496   11.173104  200000000  2068178225   \n",
       "8889      601  tt0083866    2.900556   10500000   792910554   \n",
       "8094     1642  tt0113957    1.136610   22000000  1106279658   \n",
       "10110   12230  tt0055254    2.631987    4000000   215880014   \n",
       "4361    24428  tt0848228    7.637767  220000000  1519557910   \n",
       "\n",
       "                       original_title  \\\n",
       "1386                           Avatar   \n",
       "1329                        Star Wars   \n",
       "5231                          Titanic   \n",
       "10594                    The Exorcist   \n",
       "9806                             Jaws   \n",
       "3        Star Wars: The Force Awakens   \n",
       "8889       E.T. the Extra-Terrestrial   \n",
       "8094                          The Net   \n",
       "10110  One Hundred and One Dalmatians   \n",
       "4361                     The Avengers   \n",
       "\n",
       "                                                    cast  \\\n",
       "1386   Sam Worthington|Zoe Saldana|Sigourney Weaver|S...   \n",
       "1329   Mark Hamill|Harrison Ford|Carrie Fisher|Peter ...   \n",
       "5231   Kate Winslet|Leonardo DiCaprio|Frances Fisher|...   \n",
       "10594  Linda Blair|Max von Sydow|Ellen Burstyn|Jason ...   \n",
       "9806   Roy Scheider|Robert Shaw|Richard Dreyfuss|Lorr...   \n",
       "3      Harrison Ford|Mark Hamill|Carrie Fisher|Adam D...   \n",
       "8889   Henry Thomas|Drew Barrymore|Robert MacNaughton...   \n",
       "8094   Sandra Bullock|Jeremy Northam|Dennis Miller|We...   \n",
       "10110  Rod Taylor|J. Pat O'Malley|Betty Lou Gerson|Ma...   \n",
       "4361   Robert Downey Jr.|Chris Evans|Mark Ruffalo|Chr...   \n",
       "\n",
       "                                                homepage  \\\n",
       "1386                         http://www.avatarmovie.com/   \n",
       "1329   http://www.starwars.com/films/star-wars-episod...   \n",
       "5231               http://www.titanicmovie.com/menu.html   \n",
       "10594                 http://theexorcist.warnerbros.com/   \n",
       "9806                              http://www.jaws25.com/   \n",
       "3      http://www.starwars.com/films/star-wars-episod...   \n",
       "8889                                http://www.et20.com/   \n",
       "8094                                                 NaN   \n",
       "10110                                                NaN   \n",
       "4361                   http://marvel.com/avengers_movie/   \n",
       "\n",
       "                                                director  \\\n",
       "1386                                       James Cameron   \n",
       "1329                                        George Lucas   \n",
       "5231                                       James Cameron   \n",
       "10594                                   William Friedkin   \n",
       "9806                                    Steven Spielberg   \n",
       "3                                            J.J. Abrams   \n",
       "8889                                    Steven Spielberg   \n",
       "8094                                       Irwin Winkler   \n",
       "10110  Clyde Geronimi|Hamilton Luske|Wolfgang Reitherman   \n",
       "4361                                         Joss Whedon   \n",
       "\n",
       "                                                 tagline  ...  \\\n",
       "1386                         Enter the World of Pandora.  ...   \n",
       "1329        A long time ago in a galaxy far, far away...  ...   \n",
       "5231           Nothing on Earth could come between them.  ...   \n",
       "10594  Something almost beyond comprehension is happe...  ...   \n",
       "9806                              Don't go in the water.  ...   \n",
       "3                          Every generation has a story.  ...   \n",
       "8889   He is afraid. He is alone. He is three million...  ...   \n",
       "8094   Her driver's license. Her credit cards. Her ba...  ...   \n",
       "10110                    The Canine Caper of the Century  ...   \n",
       "4361                             Some assembly required.  ...   \n",
       "\n",
       "                                                overview runtime  \\\n",
       "1386   In the 22nd century, a paraplegic Marine is di...     162   \n",
       "1329   Princess Leia is captured and held hostage by ...     121   \n",
       "5231   84 years later, a 101-year-old woman named Ros...     194   \n",
       "10594  12-year-old Regan MacNeil begins to adapt an e...     122   \n",
       "9806   An insatiable great white shark terrorizes the...     124   \n",
       "3      Thirty years after defeating the Galactic Empi...     136   \n",
       "8889   A science fiction fairytale about an extra-ter...     115   \n",
       "8094   Angela Bennett is a freelance software enginee...     114   \n",
       "10110  When a litter of dalmatian puppies are abducte...      79   \n",
       "4361   When an unexpected enemy emerges and threatens...     143   \n",
       "\n",
       "                                         genres  \\\n",
       "1386   Action|Adventure|Fantasy|Science Fiction   \n",
       "1329           Adventure|Action|Science Fiction   \n",
       "5231                     Drama|Romance|Thriller   \n",
       "10594                     Drama|Horror|Thriller   \n",
       "9806                  Horror|Thriller|Adventure   \n",
       "3      Action|Adventure|Science Fiction|Fantasy   \n",
       "8889   Science Fiction|Adventure|Family|Fantasy   \n",
       "8094        Crime|Drama|Mystery|Thriller|Action   \n",
       "10110         Adventure|Animation|Comedy|Family   \n",
       "4361           Science Fiction|Action|Adventure   \n",
       "\n",
       "                                    production_companies release_date  \\\n",
       "1386   Ingenious Film Partners|Twentieth Century Fox ...     12/10/09   \n",
       "1329    Lucasfilm|Twentieth Century Fox Film Corporation      3/20/77   \n",
       "5231   Paramount Pictures|Twentieth Century Fox Film ...     11/18/97   \n",
       "10594                      Warner Bros.|Hoya Productions     12/26/73   \n",
       "9806         Universal Pictures|Zanuck/Brown Productions      6/18/75   \n",
       "3              Lucasfilm|Truenorth Productions|Bad Robot     12/15/15   \n",
       "8889             Universal Pictures|Amblin Entertainment       4/3/82   \n",
       "8094                                   Columbia Pictures      7/28/95   \n",
       "10110                            Walt Disney Productions      1/25/61   \n",
       "4361                                      Marvel Studios      4/25/12   \n",
       "\n",
       "      vote_count  vote_average  release_year    budget_adj   revenue_adj  \n",
       "1386        8458           7.1          2009  2.408869e+08  2.827124e+09  \n",
       "1329        4428           7.9          1977  3.957559e+07  2.789712e+09  \n",
       "5231        4654           7.3          1997  2.716921e+08  2.506406e+09  \n",
       "10594       1113           7.2          1973  3.928928e+07  2.167325e+09  \n",
       "9806        1415           7.3          1975  2.836275e+07  1.907006e+09  \n",
       "3           5292           7.5          2015  1.839999e+08  1.902723e+09  \n",
       "8889        1830           7.2          1982  2.372625e+07  1.791694e+09  \n",
       "8094         201           5.6          1995  3.148127e+07  1.583050e+09  \n",
       "10110        913           6.6          1961  2.917944e+07  1.574815e+09  \n",
       "4361        8903           7.3          2012  2.089437e+08  1.443191e+09  \n",
       "\n",
       "[10 rows x 21 columns]"
      ]
     },
     "execution_count": 11,
     "metadata": {},
     "output_type": "execute_result"
    }
   ],
   "source": [
    "#Sorting the dataset by revenue from highest to smallest and then keeping only the top 10 movies\n",
    "df_sorted = df.sort_values(by=['revenue_adj'], ascending = False)\n",
    "top_10 = df_sorted.head(10)\n",
    "top_10"
   ]
  },
  {
   "cell_type": "code",
   "execution_count": 17,
   "id": "8d718737",
   "metadata": {},
   "outputs": [
    {
     "data": {
      "text/html": [
       "<div>\n",
       "<style scoped>\n",
       "    .dataframe tbody tr th:only-of-type {\n",
       "        vertical-align: middle;\n",
       "    }\n",
       "\n",
       "    .dataframe tbody tr th {\n",
       "        vertical-align: top;\n",
       "    }\n",
       "\n",
       "    .dataframe thead th {\n",
       "        text-align: right;\n",
       "    }\n",
       "</style>\n",
       "<table border=\"1\" class=\"dataframe\">\n",
       "  <thead>\n",
       "    <tr style=\"text-align: right;\">\n",
       "      <th></th>\n",
       "      <th>id</th>\n",
       "      <th>imdb_id</th>\n",
       "      <th>popularity</th>\n",
       "      <th>budget</th>\n",
       "      <th>revenue</th>\n",
       "      <th>original_title</th>\n",
       "      <th>cast</th>\n",
       "      <th>homepage</th>\n",
       "      <th>director</th>\n",
       "      <th>tagline</th>\n",
       "      <th>...</th>\n",
       "      <th>vote_count</th>\n",
       "      <th>vote_average</th>\n",
       "      <th>release_year</th>\n",
       "      <th>budget_adj</th>\n",
       "      <th>revenue_adj</th>\n",
       "      <th>cast_1</th>\n",
       "      <th>cast_2</th>\n",
       "      <th>cast_3</th>\n",
       "      <th>cast_4</th>\n",
       "      <th>cast_5</th>\n",
       "    </tr>\n",
       "  </thead>\n",
       "  <tbody>\n",
       "    <tr>\n",
       "      <th>0</th>\n",
       "      <td>135397</td>\n",
       "      <td>tt0369610</td>\n",
       "      <td>32.985763</td>\n",
       "      <td>150000000</td>\n",
       "      <td>1513528810</td>\n",
       "      <td>Jurassic World</td>\n",
       "      <td>Chris Pratt|Bryce Dallas Howard|Irrfan Khan|Vi...</td>\n",
       "      <td>http://www.jurassicworld.com/</td>\n",
       "      <td>Colin Trevorrow</td>\n",
       "      <td>The park is open.</td>\n",
       "      <td>...</td>\n",
       "      <td>5562</td>\n",
       "      <td>6.5</td>\n",
       "      <td>2015</td>\n",
       "      <td>1.379999e+08</td>\n",
       "      <td>1.392446e+09</td>\n",
       "      <td>Chris Pratt</td>\n",
       "      <td>Bryce Dallas Howard</td>\n",
       "      <td>Irrfan Khan</td>\n",
       "      <td>Vincent D'Onofrio</td>\n",
       "      <td>Nick Robinson</td>\n",
       "    </tr>\n",
       "    <tr>\n",
       "      <th>1</th>\n",
       "      <td>76341</td>\n",
       "      <td>tt1392190</td>\n",
       "      <td>28.419936</td>\n",
       "      <td>150000000</td>\n",
       "      <td>378436354</td>\n",
       "      <td>Mad Max: Fury Road</td>\n",
       "      <td>Tom Hardy|Charlize Theron|Hugh Keays-Byrne|Nic...</td>\n",
       "      <td>http://www.madmaxmovie.com/</td>\n",
       "      <td>George Miller</td>\n",
       "      <td>What a Lovely Day.</td>\n",
       "      <td>...</td>\n",
       "      <td>6185</td>\n",
       "      <td>7.1</td>\n",
       "      <td>2015</td>\n",
       "      <td>1.379999e+08</td>\n",
       "      <td>3.481613e+08</td>\n",
       "      <td>Tom Hardy</td>\n",
       "      <td>Charlize Theron</td>\n",
       "      <td>Hugh Keays-Byrne</td>\n",
       "      <td>Nicholas Hoult</td>\n",
       "      <td>Josh Helman</td>\n",
       "    </tr>\n",
       "    <tr>\n",
       "      <th>629</th>\n",
       "      <td>157336</td>\n",
       "      <td>tt0816692</td>\n",
       "      <td>24.949134</td>\n",
       "      <td>165000000</td>\n",
       "      <td>621752480</td>\n",
       "      <td>Interstellar</td>\n",
       "      <td>Matthew McConaughey|Jessica Chastain|Anne Hath...</td>\n",
       "      <td>http://www.interstellarmovie.net/</td>\n",
       "      <td>Christopher Nolan</td>\n",
       "      <td>Mankind was born on Earth. It was never meant ...</td>\n",
       "      <td>...</td>\n",
       "      <td>6498</td>\n",
       "      <td>8.0</td>\n",
       "      <td>2014</td>\n",
       "      <td>1.519800e+08</td>\n",
       "      <td>5.726906e+08</td>\n",
       "      <td>Matthew McConaughey</td>\n",
       "      <td>Jessica Chastain</td>\n",
       "      <td>Anne Hathaway</td>\n",
       "      <td>Michael Caine</td>\n",
       "      <td>Casey Affleck</td>\n",
       "    </tr>\n",
       "    <tr>\n",
       "      <th>630</th>\n",
       "      <td>118340</td>\n",
       "      <td>tt2015381</td>\n",
       "      <td>14.311205</td>\n",
       "      <td>170000000</td>\n",
       "      <td>773312399</td>\n",
       "      <td>Guardians of the Galaxy</td>\n",
       "      <td>Chris Pratt|Zoe Saldana|Dave Bautista|Vin Dies...</td>\n",
       "      <td>http://marvel.com/guardians</td>\n",
       "      <td>James Gunn</td>\n",
       "      <td>All heroes start somewhere.</td>\n",
       "      <td>...</td>\n",
       "      <td>5612</td>\n",
       "      <td>7.9</td>\n",
       "      <td>2014</td>\n",
       "      <td>1.565855e+08</td>\n",
       "      <td>7.122911e+08</td>\n",
       "      <td>Chris Pratt</td>\n",
       "      <td>Zoe Saldana</td>\n",
       "      <td>Dave Bautista</td>\n",
       "      <td>Vin Diesel</td>\n",
       "      <td>Bradley Cooper</td>\n",
       "    </tr>\n",
       "    <tr>\n",
       "      <th>2</th>\n",
       "      <td>262500</td>\n",
       "      <td>tt2908446</td>\n",
       "      <td>13.112507</td>\n",
       "      <td>110000000</td>\n",
       "      <td>295238201</td>\n",
       "      <td>Insurgent</td>\n",
       "      <td>Shailene Woodley|Theo James|Kate Winslet|Ansel...</td>\n",
       "      <td>http://www.thedivergentseries.movie/#insurgent</td>\n",
       "      <td>Robert Schwentke</td>\n",
       "      <td>One Choice Can Destroy You</td>\n",
       "      <td>...</td>\n",
       "      <td>2480</td>\n",
       "      <td>6.3</td>\n",
       "      <td>2015</td>\n",
       "      <td>1.012000e+08</td>\n",
       "      <td>2.716190e+08</td>\n",
       "      <td>Shailene Woodley</td>\n",
       "      <td>Theo James</td>\n",
       "      <td>Kate Winslet</td>\n",
       "      <td>Ansel Elgort</td>\n",
       "      <td>Miles Teller</td>\n",
       "    </tr>\n",
       "    <tr>\n",
       "      <th>631</th>\n",
       "      <td>100402</td>\n",
       "      <td>tt1843866</td>\n",
       "      <td>12.971027</td>\n",
       "      <td>170000000</td>\n",
       "      <td>714766572</td>\n",
       "      <td>Captain America: The Winter Soldier</td>\n",
       "      <td>Chris Evans|Scarlett Johansson|Sebastian Stan|...</td>\n",
       "      <td>http://www.captainamericathewintersoldiermovie...</td>\n",
       "      <td>Joe Russo|Anthony Russo</td>\n",
       "      <td>In heroes we trust.</td>\n",
       "      <td>...</td>\n",
       "      <td>3848</td>\n",
       "      <td>7.6</td>\n",
       "      <td>2014</td>\n",
       "      <td>1.565855e+08</td>\n",
       "      <td>6.583651e+08</td>\n",
       "      <td>Chris Evans</td>\n",
       "      <td>Scarlett Johansson</td>\n",
       "      <td>Sebastian Stan</td>\n",
       "      <td>Samuel L. Jackson</td>\n",
       "      <td>Robert Redford</td>\n",
       "    </tr>\n",
       "    <tr>\n",
       "      <th>1329</th>\n",
       "      <td>11</td>\n",
       "      <td>tt0076759</td>\n",
       "      <td>12.037933</td>\n",
       "      <td>11000000</td>\n",
       "      <td>775398007</td>\n",
       "      <td>Star Wars</td>\n",
       "      <td>Mark Hamill|Harrison Ford|Carrie Fisher|Peter ...</td>\n",
       "      <td>http://www.starwars.com/films/star-wars-episod...</td>\n",
       "      <td>George Lucas</td>\n",
       "      <td>A long time ago in a galaxy far, far away...</td>\n",
       "      <td>...</td>\n",
       "      <td>4428</td>\n",
       "      <td>7.9</td>\n",
       "      <td>1977</td>\n",
       "      <td>3.957559e+07</td>\n",
       "      <td>2.789712e+09</td>\n",
       "      <td>Mark Hamill</td>\n",
       "      <td>Harrison Ford</td>\n",
       "      <td>Carrie Fisher</td>\n",
       "      <td>Peter Cushing</td>\n",
       "      <td>Alec Guinness</td>\n",
       "    </tr>\n",
       "    <tr>\n",
       "      <th>632</th>\n",
       "      <td>245891</td>\n",
       "      <td>tt2911666</td>\n",
       "      <td>11.422751</td>\n",
       "      <td>20000000</td>\n",
       "      <td>78739897</td>\n",
       "      <td>John Wick</td>\n",
       "      <td>Keanu Reeves|Michael Nyqvist|Alfie Allen|Wille...</td>\n",
       "      <td>http://www.johnwickthemovie.com/</td>\n",
       "      <td>Chad Stahelski|David Leitch</td>\n",
       "      <td>Don't set him off.</td>\n",
       "      <td>...</td>\n",
       "      <td>2712</td>\n",
       "      <td>7.0</td>\n",
       "      <td>2014</td>\n",
       "      <td>1.842182e+07</td>\n",
       "      <td>7.252661e+07</td>\n",
       "      <td>Keanu Reeves</td>\n",
       "      <td>Michael Nyqvist</td>\n",
       "      <td>Alfie Allen</td>\n",
       "      <td>Willem Dafoe</td>\n",
       "      <td>Dean Winters</td>\n",
       "    </tr>\n",
       "    <tr>\n",
       "      <th>3</th>\n",
       "      <td>140607</td>\n",
       "      <td>tt2488496</td>\n",
       "      <td>11.173104</td>\n",
       "      <td>200000000</td>\n",
       "      <td>2068178225</td>\n",
       "      <td>Star Wars: The Force Awakens</td>\n",
       "      <td>Harrison Ford|Mark Hamill|Carrie Fisher|Adam D...</td>\n",
       "      <td>http://www.starwars.com/films/star-wars-episod...</td>\n",
       "      <td>J.J. Abrams</td>\n",
       "      <td>Every generation has a story.</td>\n",
       "      <td>...</td>\n",
       "      <td>5292</td>\n",
       "      <td>7.5</td>\n",
       "      <td>2015</td>\n",
       "      <td>1.839999e+08</td>\n",
       "      <td>1.902723e+09</td>\n",
       "      <td>Harrison Ford</td>\n",
       "      <td>Mark Hamill</td>\n",
       "      <td>Carrie Fisher</td>\n",
       "      <td>Adam Driver</td>\n",
       "      <td>Daisy Ridley</td>\n",
       "    </tr>\n",
       "    <tr>\n",
       "      <th>633</th>\n",
       "      <td>131631</td>\n",
       "      <td>tt1951265</td>\n",
       "      <td>10.739009</td>\n",
       "      <td>125000000</td>\n",
       "      <td>752100229</td>\n",
       "      <td>The Hunger Games: Mockingjay - Part 1</td>\n",
       "      <td>Jennifer Lawrence|Josh Hutcherson|Liam Hemswor...</td>\n",
       "      <td>http://www.thehungergames.movie/</td>\n",
       "      <td>Francis Lawrence</td>\n",
       "      <td>Fire burns brighter in the darkness</td>\n",
       "      <td>...</td>\n",
       "      <td>3590</td>\n",
       "      <td>6.6</td>\n",
       "      <td>2014</td>\n",
       "      <td>1.151364e+08</td>\n",
       "      <td>6.927528e+08</td>\n",
       "      <td>Jennifer Lawrence</td>\n",
       "      <td>Josh Hutcherson</td>\n",
       "      <td>Liam Hemsworth</td>\n",
       "      <td>Woody Harrelson</td>\n",
       "      <td>Donald Sutherland</td>\n",
       "    </tr>\n",
       "  </tbody>\n",
       "</table>\n",
       "<p>10 rows × 26 columns</p>\n",
       "</div>"
      ],
      "text/plain": [
       "          id    imdb_id  popularity     budget     revenue  \\\n",
       "0     135397  tt0369610   32.985763  150000000  1513528810   \n",
       "1      76341  tt1392190   28.419936  150000000   378436354   \n",
       "629   157336  tt0816692   24.949134  165000000   621752480   \n",
       "630   118340  tt2015381   14.311205  170000000   773312399   \n",
       "2     262500  tt2908446   13.112507  110000000   295238201   \n",
       "631   100402  tt1843866   12.971027  170000000   714766572   \n",
       "1329      11  tt0076759   12.037933   11000000   775398007   \n",
       "632   245891  tt2911666   11.422751   20000000    78739897   \n",
       "3     140607  tt2488496   11.173104  200000000  2068178225   \n",
       "633   131631  tt1951265   10.739009  125000000   752100229   \n",
       "\n",
       "                             original_title  \\\n",
       "0                            Jurassic World   \n",
       "1                        Mad Max: Fury Road   \n",
       "629                            Interstellar   \n",
       "630                 Guardians of the Galaxy   \n",
       "2                                 Insurgent   \n",
       "631     Captain America: The Winter Soldier   \n",
       "1329                              Star Wars   \n",
       "632                               John Wick   \n",
       "3              Star Wars: The Force Awakens   \n",
       "633   The Hunger Games: Mockingjay - Part 1   \n",
       "\n",
       "                                                   cast  \\\n",
       "0     Chris Pratt|Bryce Dallas Howard|Irrfan Khan|Vi...   \n",
       "1     Tom Hardy|Charlize Theron|Hugh Keays-Byrne|Nic...   \n",
       "629   Matthew McConaughey|Jessica Chastain|Anne Hath...   \n",
       "630   Chris Pratt|Zoe Saldana|Dave Bautista|Vin Dies...   \n",
       "2     Shailene Woodley|Theo James|Kate Winslet|Ansel...   \n",
       "631   Chris Evans|Scarlett Johansson|Sebastian Stan|...   \n",
       "1329  Mark Hamill|Harrison Ford|Carrie Fisher|Peter ...   \n",
       "632   Keanu Reeves|Michael Nyqvist|Alfie Allen|Wille...   \n",
       "3     Harrison Ford|Mark Hamill|Carrie Fisher|Adam D...   \n",
       "633   Jennifer Lawrence|Josh Hutcherson|Liam Hemswor...   \n",
       "\n",
       "                                               homepage  \\\n",
       "0                         http://www.jurassicworld.com/   \n",
       "1                           http://www.madmaxmovie.com/   \n",
       "629                   http://www.interstellarmovie.net/   \n",
       "630                         http://marvel.com/guardians   \n",
       "2        http://www.thedivergentseries.movie/#insurgent   \n",
       "631   http://www.captainamericathewintersoldiermovie...   \n",
       "1329  http://www.starwars.com/films/star-wars-episod...   \n",
       "632                    http://www.johnwickthemovie.com/   \n",
       "3     http://www.starwars.com/films/star-wars-episod...   \n",
       "633                    http://www.thehungergames.movie/   \n",
       "\n",
       "                         director  \\\n",
       "0                 Colin Trevorrow   \n",
       "1                   George Miller   \n",
       "629             Christopher Nolan   \n",
       "630                    James Gunn   \n",
       "2                Robert Schwentke   \n",
       "631       Joe Russo|Anthony Russo   \n",
       "1329                 George Lucas   \n",
       "632   Chad Stahelski|David Leitch   \n",
       "3                     J.J. Abrams   \n",
       "633              Francis Lawrence   \n",
       "\n",
       "                                                tagline  ... vote_count  \\\n",
       "0                                     The park is open.  ...       5562   \n",
       "1                                    What a Lovely Day.  ...       6185   \n",
       "629   Mankind was born on Earth. It was never meant ...  ...       6498   \n",
       "630                         All heroes start somewhere.  ...       5612   \n",
       "2                            One Choice Can Destroy You  ...       2480   \n",
       "631                                 In heroes we trust.  ...       3848   \n",
       "1329       A long time ago in a galaxy far, far away...  ...       4428   \n",
       "632                                  Don't set him off.  ...       2712   \n",
       "3                         Every generation has a story.  ...       5292   \n",
       "633                 Fire burns brighter in the darkness  ...       3590   \n",
       "\n",
       "     vote_average  release_year    budget_adj   revenue_adj  \\\n",
       "0             6.5          2015  1.379999e+08  1.392446e+09   \n",
       "1             7.1          2015  1.379999e+08  3.481613e+08   \n",
       "629           8.0          2014  1.519800e+08  5.726906e+08   \n",
       "630           7.9          2014  1.565855e+08  7.122911e+08   \n",
       "2             6.3          2015  1.012000e+08  2.716190e+08   \n",
       "631           7.6          2014  1.565855e+08  6.583651e+08   \n",
       "1329          7.9          1977  3.957559e+07  2.789712e+09   \n",
       "632           7.0          2014  1.842182e+07  7.252661e+07   \n",
       "3             7.5          2015  1.839999e+08  1.902723e+09   \n",
       "633           6.6          2014  1.151364e+08  6.927528e+08   \n",
       "\n",
       "                   cast_1               cast_2            cast_3  \\\n",
       "0             Chris Pratt  Bryce Dallas Howard       Irrfan Khan   \n",
       "1               Tom Hardy      Charlize Theron  Hugh Keays-Byrne   \n",
       "629   Matthew McConaughey     Jessica Chastain     Anne Hathaway   \n",
       "630           Chris Pratt          Zoe Saldana     Dave Bautista   \n",
       "2        Shailene Woodley           Theo James      Kate Winslet   \n",
       "631           Chris Evans   Scarlett Johansson    Sebastian Stan   \n",
       "1329          Mark Hamill        Harrison Ford     Carrie Fisher   \n",
       "632          Keanu Reeves      Michael Nyqvist       Alfie Allen   \n",
       "3           Harrison Ford          Mark Hamill     Carrie Fisher   \n",
       "633     Jennifer Lawrence      Josh Hutcherson    Liam Hemsworth   \n",
       "\n",
       "                 cast_4             cast_5  \n",
       "0     Vincent D'Onofrio      Nick Robinson  \n",
       "1        Nicholas Hoult        Josh Helman  \n",
       "629       Michael Caine      Casey Affleck  \n",
       "630          Vin Diesel     Bradley Cooper  \n",
       "2          Ansel Elgort       Miles Teller  \n",
       "631   Samuel L. Jackson     Robert Redford  \n",
       "1329      Peter Cushing      Alec Guinness  \n",
       "632        Willem Dafoe       Dean Winters  \n",
       "3           Adam Driver       Daisy Ridley  \n",
       "633     Woody Harrelson  Donald Sutherland  \n",
       "\n",
       "[10 rows x 26 columns]"
      ]
     },
     "execution_count": 17,
     "metadata": {},
     "output_type": "execute_result"
    }
   ],
   "source": [
    "#Sorting the dataset by popularity from highest to smallest and then keeping only the top 10 movies\n",
    "df_sorted_popularity = df.sort_values(by=['popularity'], ascending = False)\n",
    "top_10_popularity = df_sorted_popularity.head(10)\n",
    "top_10_popularity"
   ]
  },
  {
   "cell_type": "markdown",
   "id": "b9c29e60",
   "metadata": {},
   "source": [
    "## <<Top 10 movies by revenue_adj significantly differ from the top 10 movies by popularity. Only two movies appears in both lists - Star Wars and Star Wars: The Force Awakens.>>"
   ]
  },
  {
   "cell_type": "markdown",
   "id": "64c8071f",
   "metadata": {},
   "source": [
    "## Research Question # 2: Do top-selling movies and most popular movies share the same director?"
   ]
  },
  {
   "cell_type": "code",
   "execution_count": 18,
   "id": "3c3a4fab",
   "metadata": {},
   "outputs": [
    {
     "data": {
      "text/plain": [
       "Steven Spielberg                                     0.2\n",
       "James Cameron                                        0.2\n",
       "Joss Whedon                                          0.1\n",
       "George Lucas                                         0.1\n",
       "J.J. Abrams                                          0.1\n",
       "Irwin Winkler                                        0.1\n",
       "Clyde Geronimi|Hamilton Luske|Wolfgang Reitherman    0.1\n",
       "William Friedkin                                     0.1\n",
       "Name: director, dtype: float64"
      ]
     },
     "execution_count": 18,
     "metadata": {},
     "output_type": "execute_result"
    }
   ],
   "source": [
    "#Getting the top 10 directors from dataset based on revenue\n",
    "top_10_directors_proportions = top_10.director.value_counts()/len(top_10)\n",
    "top_10_directors_proportions"
   ]
  },
  {
   "cell_type": "code",
   "execution_count": 19,
   "id": "d5629ee2",
   "metadata": {},
   "outputs": [
    {
     "data": {
      "text/plain": [
       "Francis Lawrence               0.1\n",
       "Colin Trevorrow                0.1\n",
       "Robert Schwentke               0.1\n",
       "George Miller                  0.1\n",
       "J.J. Abrams                    0.1\n",
       "James Gunn                     0.1\n",
       "Chad Stahelski|David Leitch    0.1\n",
       "Christopher Nolan              0.1\n",
       "George Lucas                   0.1\n",
       "Joe Russo|Anthony Russo        0.1\n",
       "Name: director, dtype: float64"
      ]
     },
     "execution_count": 19,
     "metadata": {},
     "output_type": "execute_result"
    }
   ],
   "source": [
    "#Getting the top 10 directors based on popularity\n",
    "top_10_popularity_directors_proportions = top_10_popularity.director.value_counts()/len(top_10_popularity)\n",
    "top_10_popularity_directors_proportions"
   ]
  },
  {
   "cell_type": "code",
   "execution_count": 20,
   "id": "68d4c15e",
   "metadata": {},
   "outputs": [
    {
     "data": {
      "image/png": "[encoded data removed]",
      "text/plain": [
       "<Figure size 1440x360 with 1 Axes>"
      ]
     },
     "metadata": {
      "needs_background": "light"
     },
     "output_type": "display_data"
    }
   ],
   "source": [
    "#Plotting the top 10 directors based on revenue\n",
    "fig = plt.figure(figsize = (20, 5))\n",
    "top_10_directors_proportions.plot();\n",
    "plt.xticks(fontsize=7)\n",
    "plt.title(\"Directors for top revenue movies\");"
   ]
  },
  {
   "cell_type": "code",
   "execution_count": 21,
   "id": "323559bd",
   "metadata": {},
   "outputs": [
    {
     "data": {
      "image/png": "[encoded data removed]",
      "text/plain": [
       "<Figure size 1440x360 with 1 Axes>"
      ]
     },
     "metadata": {
      "needs_background": "light"
     },
     "output_type": "display_data"
    }
   ],
   "source": [
    "#Plotting the top 10 directors based on popularity\n",
    "fig = plt.figure(figsize = (20, 5))\n",
    "top_10_popularity_directors_proportions.plot();\n",
    "plt.xticks(fontsize=7)\n",
    "plt.title(\"Directors for most popular movies\");"
   ]
  },
  {
   "cell_type": "markdown",
   "id": "fdb6d659",
   "metadata": {},
   "source": [
    "## <<Two movies directed by two directors - James Cameron and Steven Spielberg, appear among the top selling movies. However, neither of them appear as directors of the most popular movies. The only director that comes up in both lists is George Lucas.>>"
   ]
  },
  {
   "cell_type": "markdown",
   "id": "089d9cbb",
   "metadata": {},
   "source": [
    "## Research Question # 3: Which year had the most movie releases?"
   ]
  },
  {
   "cell_type": "code",
   "execution_count": 14,
   "id": "76efb576",
   "metadata": {},
   "outputs": [
    {
     "data": {
      "image/png": "[encoded data removed]",
      "text/plain": [
       "<Figure size 864x288 with 1 Axes>"
      ]
     },
     "metadata": {
      "needs_background": "light"
     },
     "output_type": "display_data"
    }
   ],
   "source": [
    "#Plotting a histogram with the number of movies by year\n",
    "#X axis defines the year and Y axis defines its count\n",
    "df_sorted['release_year'].value_counts().head(10).plot.bar(figsize=(12,4))\n",
    "plt.title(\"Number of movies released by year\");"
   ]
  },
  {
   "cell_type": "markdown",
   "id": "b4880c7a",
   "metadata": {},
   "source": [
    "## << Overall, there were more movies released from 2011 onwards than before.>>"
   ]
  },
  {
   "cell_type": "markdown",
   "id": "3755d3a4",
   "metadata": {},
   "source": [
    "## Research Question # 4: Which movies are the most profitable?"
   ]
  },
  {
   "cell_type": "code",
   "execution_count": 13,
   "id": "9ce9c9a0",
   "metadata": {},
   "outputs": [
    {
     "data": {
      "image/png": "[encoded data removed]",
      "text/plain": [
       "<Figure size 864x288 with 1 Axes>"
      ]
     },
     "metadata": {
      "needs_background": "light"
     },
     "output_type": "display_data"
    }
   ],
   "source": [
    "#Calculating profit by substracting budget from revenue and then plotting a histogram with the results\n",
    "df_sorted['profit'] = df_sorted['revenue_adj'] - df_sorted['budget']\n",
    "top_profit = df_sorted.nlargest(10,'profit')\n",
    "top_profit.index = top_profit.original_title\n",
    "top_profit[['original_title','profit']].plot.bar(figsize=(12,4))\n",
    "plt.title(\"Most profitable movies\");"
   ]
  },
  {
   "cell_type": "markdown",
   "id": "96e1ce73",
   "metadata": {},
   "source": [
    "## <<Star Wars not only is one of the most popular movies and one of the top selling ones, but also it's the most profitable one.>>"
   ]
  },
  {
   "cell_type": "markdown",
   "id": "6296cc3c",
   "metadata": {},
   "source": [
    "## Research Question # 5: Do any of the directors with the most number of films also appear in the top-selling or most popular movie lists?"
   ]
  },
  {
   "cell_type": "code",
   "execution_count": 12,
   "id": "46b40a79",
   "metadata": {},
   "outputs": [
    {
     "data": {
      "image/png": "[encoded data removed]",
      "text/plain": [
       "<Figure size 864x288 with 1 Axes>"
      ]
     },
     "metadata": {
      "needs_background": "light"
     },
     "output_type": "display_data"
    }
   ],
   "source": [
    "#Plotting a histogram with the directors with the most number of movies\n",
    "df_sorted['director'].value_counts().head(10).plot.bar(figsize=(12,4))\n",
    "plt.title(\"Directors with the most number of movies\");"
   ]
  },
  {
   "cell_type": "markdown",
   "id": "e41ded48",
   "metadata": {},
   "source": [
    "## <<Even though they are not among the directors of the most popular films or the most profitable movies, Woody Allen, Clint Eastwood and Martin Scorsese are the top 3 directors with the most number of movies.>>"
   ]
  },
  {
   "cell_type": "markdown",
   "id": "416d2f8b",
   "metadata": {},
   "source": [
    "## Research Question # 6: Is there a relationship between budget and popularity?"
   ]
  },
  {
   "cell_type": "code",
   "execution_count": 32,
   "id": "1ae21c0f",
   "metadata": {},
   "outputs": [
    {
     "data": {
      "image/png": "[encoded data removed]",
      "text/plain": [
       "<Figure size 864x720 with 2 Axes>"
      ]
     },
     "metadata": {
      "needs_background": "light"
     },
     "output_type": "display_data"
    }
   ],
   "source": [
    "#Plotting a scatterplot that shows the relationship between popularity and budget\n",
    "#X axis defines popularity and Y axis its budget\n",
    "plt.figure(figsize=(12,10))\n",
    "plt.title(\"IMDB Popularity Vs Budget\")\n",
    "plt.xlabel(\"Popularity\")\n",
    "plt.ylabel(\"Budget\")\n",
    "tmp=plt.scatter(df_sorted.popularity,df_sorted.budget,c=df_sorted.popularity,vmin=3,vmax=10)\n",
    "plt.yticks([i*2500 for i in range(11)])\n",
    "plt.colorbar(tmp,fraction=.025)\n",
    "plt.show()"
   ]
  },
  {
   "cell_type": "code",
   "execution_count": 33,
   "id": "04664c1e",
   "metadata": {},
   "outputs": [
    {
     "data": {
      "image/png": "[encoded data removed]",
      "text/plain": [
       "<Figure size 864x720 with 1 Axes>"
      ]
     },
     "metadata": {
      "needs_background": "light"
     },
     "output_type": "display_data"
    }
   ],
   "source": [
    "#Plotting a line graph showing the relationship between proft and average voting\n",
    "    #X axis defines the profit and Y axis defines its average voting\n",
    "plt.figure(figsize=(12,10))\n",
    "plt.title(\"Profit VS Avg Voting of Top 10 Profitable movies\")\n",
    "plt.xlabel('Profit')\n",
    "plt.plot(top_profit.profit,top_profit.vote_average)\n",
    "plt.legend(['Profit VS Avg Voting'],loc='lower left')\n",
    "plt.yticks(range(10))\n",
    "plt.show()"
   ]
  },
  {
   "cell_type": "markdown",
   "id": "06bcd218",
   "metadata": {},
   "source": [
    "## <<There seems to be a close relationship between popularity and a film's budget. This makes sense when we think about movies such as Avatar or Titanic or The Avengers, which were blockbusters. >>"
   ]
  },
  {
   "cell_type": "markdown",
   "id": "33d52360",
   "metadata": {},
   "source": [
    "## Research Question # 7: Which are the preferred movie genres?"
   ]
  },
  {
   "cell_type": "code",
   "execution_count": 35,
   "id": "4ebbde14",
   "metadata": {},
   "outputs": [],
   "source": [
    "#Loading packages to build dictionaries\n",
    "from collections import Counter\n",
    "dicGenresWithCounts = Counter(arrayGenres)"
   ]
  },
  {
   "cell_type": "code",
   "execution_count": 34,
   "id": "d697cdd3",
   "metadata": {},
   "outputs": [],
   "source": [
    "#Building dictionary loop\n",
    "arrayGenres = []\n",
    "for i in df_sorted.genres:\n",
    "    if type(i) == str:\n",
    "        for x in i.split('|'):\n",
    "            arrayGenres.append(x)"
   ]
  },
  {
   "cell_type": "code",
   "execution_count": 36,
   "id": "e68f1c52",
   "metadata": {},
   "outputs": [
    {
     "data": {
      "image/png": "[encoded data removed]",
      "text/plain": [
       "<Figure size 864x432 with 1 Axes>"
      ]
     },
     "metadata": {
      "needs_background": "light"
     },
     "output_type": "display_data"
    }
   ],
   "source": [
    "#Plotting number of movies by genre\n",
    "#X axis defines number of movies released and Y axis defines its genre\n",
    "df_genres=pd.DataFrame.from_dict([dicGenresWithCounts.values()])\n",
    "df_genres.columns=list(dicGenresWithCounts.keys())\n",
    "df_genres.plot.bar(figsize=(12,6))\n",
    "plt.title(\"No of movies released in each Genres\")\n",
    "plt.xlabel(\"Genres\")\n",
    "plt.ylabel(\"No of movies released\");"
   ]
  },
  {
   "cell_type": "markdown",
   "id": "349f62ff",
   "metadata": {},
   "source": [
    "## <<The top 3 preferred genre in this dataset is Drama, followed by Comedy and then by Thriller. Action movies are on the top 5 but not animation movies, which is curious given the number of animated films nowadays. >>"
   ]
  },
  {
   "cell_type": "markdown",
   "id": "c9004eb2",
   "metadata": {},
   "source": [
    "## Research Question # 8: Who are the actors or actresses that appear the most in this dataset films? "
   ]
  },
  {
   "cell_type": "code",
   "execution_count": 37,
   "id": "044d893a",
   "metadata": {},
   "outputs": [],
   "source": [
    "#Building dictionary loop\n",
    "arrayCast = []\n",
    "for i in df_sorted.cast:\n",
    "    if type(i) == str:\n",
    "        for x in i.split('|'):\n",
    "            arrayCast.append(x)"
   ]
  },
  {
   "cell_type": "code",
   "execution_count": 38,
   "id": "826d711a",
   "metadata": {},
   "outputs": [],
   "source": [
    "dicCastWithCounts = Counter(arrayCast)"
   ]
  },
  {
   "cell_type": "code",
   "execution_count": 39,
   "id": "9dd61246",
   "metadata": {},
   "outputs": [
    {
     "data": {
      "image/png": "[encoded data removed]",
      "text/plain": [
       "<Figure size 864x432 with 1 Axes>"
      ]
     },
     "metadata": {
      "needs_background": "light"
     },
     "output_type": "display_data"
    }
   ],
   "source": [
    "#Plotting top 10 actors/actresses\n",
    "#X axis defines number of movies released and Y axis defines actors/actresses\n",
    "df_Cast=pd.DataFrame(data={'Cast':list(dicCastWithCounts.keys()),'Count':list(dicCastWithCounts.values())}).sort_values(by='Count',ascending=False)\n",
    "df_Cast.index = df_Cast.Cast\n",
    "df_Cast.Count.head(10).plot.bar(figsize=(12,6))\n",
    "plt.title(\"Top 10 Actor/Actress\")\n",
    "plt.xlabel(\"Cast\")\n",
    "plt.ylabel(\"No of movies released\");"
   ]
  },
  {
   "cell_type": "markdown",
   "id": "b8c9cc9d",
   "metadata": {},
   "source": [
    "## <<The actors with the most number of movies, aren't part of the cast of the top movies by revenue or popularity. Actors such as Robert De Niro or Robin Williams could be perceived as not great actors, since they are not in the top revenue movies, however, they are some of the most talented actors. >>"
   ]
  },
  {
   "cell_type": "markdown",
   "id": "b434ad06",
   "metadata": {},
   "source": [
    "<a id='conclusions'></a>\n",
    "## Conclusions\n",
    "\n",
    "Based on the analysis performed, some interesting insights came to light. \n",
    "1) Popular movies and best-selling movies do not necessarily go hand by hand.\n",
    "\n",
    "2) There seems to be a relationship between popularity and movies' budget.\n",
    "\n",
    "3) The number of movies for both actors and directors don't seem to be related to top movies by revenue or popularity. In fact, the actors and directors with the biggest number of movies, aren't involved in the most popular of best-selling movies. \n",
    "\n",
    "4) 2011 seems to be an inflexion point in terms of number of movies released. There are more releases from that year onwards than before. \n",
    "\n",
    "5) There seems to be a preference for Drama movies, followed by Comedy and Thriller. \n",
    "\n",
    "Limitations: while analyzing the data include missing data from several fields. That prevented exploring other questions such as which taglines were the most popular and to which movies were those associated with; same with keywords and lastly, with production companies. \n",
    "In addition to this, some of the analysis performed here are based of budget and revenue, which do not have currency unit so it might be possible that different movies have a budget in a different currency depending on the country they were produced."
   ]
  }
 ],
 "metadata": {
  "kernelspec": {
   "display_name": "Python 3",
   "language": "python",
   "name": "python3"
  },
  "language_info": {
   "codemirror_mode": {
    "name": "ipython",
    "version": 3
   },
   "file_extension": ".py",
   "mimetype": "text/x-python",
   "name": "python",
   "nbconvert_exporter": "python",
   "pygments_lexer": "ipython3",
   "version": "3.8.8"
  }
 },
 "nbformat": 4,
 "nbformat_minor": 5
}
